{
 "cells": [
  {
   "cell_type": "markdown",
   "metadata": {},
   "source": [
    "<center><h1> Welcome to the Profiler for</h1>\n",
    "<img src=\"champIcons/Riot_Games_logo.png\" alt=\"Riot Games\" width=\"100\">\n",
    "<img src=\"champIcons/League-of-Legends-Game-Logo.jpg\" alt=\"League Icon\" width=\"200\"></center>"
   ]
  },
  {
   "cell_type": "code",
   "execution_count": 62,
   "metadata": {
    "collapsed": true
   },
   "outputs": [],
   "source": [
    "import json\n",
    "import pandas as pd\n",
    "import requests\n",
    "from PIL import Image\n",
    "from io import BytesIO\n",
    "import pprint\n",
    "import matplotlib.pyplot as plt\n",
    "import tkinter\n",
    "from PIL import ImageTk, Image\n",
    "import os\n",
    "import shutil\n",
    "import time\n",
    "%matplotlib inline\n",
    "key = '98d64dad-53c8-43e0-b947-aaee85100403'"
   ]
  },
  {
   "cell_type": "markdown",
   "metadata": {
    "nbpresent": {
     "id": "1b65e2e6-c17f-43d7-b591-6d7bcb9b836a"
    }
   },
   "source": [
    "# Set up"
   ]
  },
  {
   "cell_type": "code",
   "execution_count": 2,
   "metadata": {
    "collapsed": false,
    "nbpresent": {
     "id": "84b063f4-93b0-464c-9dd6-ec3df5f208c9"
    }
   },
   "outputs": [],
   "source": [
    "def getChampIconPath(champID):\n",
    "    return champ_dict[champID].lower().replace(' ', '').replace('\\'', '') + '.png'"
   ]
  },
  {
   "cell_type": "code",
   "execution_count": 3,
   "metadata": {
    "collapsed": false,
    "nbpresent": {
     "id": "9e7bf19b-f99e-41c8-bf29-a0dfef1fb816"
    }
   },
   "outputs": [],
   "source": [
    "#champion info names\n",
    "url = 'https://global.api.pvp.net/api/lol/static-data/na/v1.2/champion?api_key=98d64dad-53c8-43e0-b947-aaee85100403'\n",
    "championInfo = requests.get(url)\n",
    "#pprint.pprint(championInfo.json())"
   ]
  },
  {
   "cell_type": "code",
   "execution_count": 4,
   "metadata": {
    "collapsed": true,
    "nbpresent": {
     "id": "a54dd71c-526f-4de5-9827-9207a41656bd"
    }
   },
   "outputs": [],
   "source": [
    "champ_dict = {}\n",
    "for champion in championInfo.json()['data']:\n",
    "    champ_dict[championInfo.json()['data'][champion]['id']] = championInfo.json()['data'][champion]['name']\n",
    "    #print(championInfo.json()['data'][champion]['name'])\n",
    "    #print(championInfo.json()['data'][champion]['id'])"
   ]
  },
  {
   "cell_type": "code",
   "execution_count": 5,
   "metadata": {
    "collapsed": true
   },
   "outputs": [],
   "source": [
    "def getChampSimpleName(champID):\n",
    "    return champ_dict[champID].lower().replace(' ', '').replace('\\'', '').replace('.','')"
   ]
  },
  {
   "cell_type": "code",
   "execution_count": 6,
   "metadata": {
    "collapsed": false,
    "nbpresent": {
     "id": "7759a35b-a4f0-4f36-aa96-0216e54660f0"
    }
   },
   "outputs": [],
   "source": [
    "champ_ids = {}\n",
    "for champ_id in champ_dict:\n",
    "    s = getChampSimpleName(champ_id)\n",
    "    champ_ids[s] = champ_id"
   ]
  },
  {
   "cell_type": "code",
   "execution_count": 7,
   "metadata": {
    "collapsed": false,
    "nbpresent": {
     "id": "c37c7974-1b4f-48bd-bb27-601c5583385c"
    }
   },
   "outputs": [],
   "source": [
    "def getChampIconPath(champID):\n",
    "    return \"champIcons/\"+champ_dict[champID].lower().replace(' ', '').replace('\\'', '').replace('.','') + '.png'"
   ]
  },
  {
   "cell_type": "code",
   "execution_count": 63,
   "metadata": {
    "collapsed": true
   },
   "outputs": [],
   "source": [
    "def getChampIcon(champName):\n",
    "    baseName = champName.replace(' ', '').replace('\\'', '').replace('.','')\n",
    "    response = requests.get(\"http://ddragon.leagueoflegends.com/cdn/6.24.1/img/champion/\"+baseName+'.png') \n",
    "    img = Image.open(BytesIO(response.content))\n",
    "    img.save('tmpChampIcons/'+baseName+'.png')\n",
    "    return 'tmpChampIcons/'+baseName+'.png'"
   ]
  },
  {
   "cell_type": "code",
   "execution_count": 8,
   "metadata": {
    "collapsed": true,
    "nbpresent": {
     "id": "6506f1b9-3762-4fbf-ae03-bd62f08e68cd"
    }
   },
   "outputs": [],
   "source": [
    "def getChampIconPath_fromString(champName):\n",
    "    return \"champIcons/\"+champName.lower().replace(' ', '').replace('\\'', '').replace('.','') + '.png'"
   ]
  },
  {
   "cell_type": "code",
   "execution_count": 9,
   "metadata": {
    "collapsed": true,
    "nbpresent": {
     "id": "1c96eae4-7a7a-4465-8511-e19984550f77"
    }
   },
   "outputs": [],
   "source": [
    "def getChampID(simpleName):\n",
    "    return champ_ids[simpleName]    "
   ]
  },
  {
   "cell_type": "code",
   "execution_count": 10,
   "metadata": {
    "collapsed": true
   },
   "outputs": [],
   "source": [
    "def getSummonerChampLevel(tempChampID, summID):\n",
    "    url = 'https://na.api.pvp.net/championmastery/location/NA1/player/'+str(summID)+'/champion/'+str(tempChampID)+'?api_key='+key\n",
    "    getChampExp = requests.get(url)\n",
    "    if getChampExp.status_code == 200:\n",
    "        #has experience\n",
    "        return getChampExp.json()['championLevel']\n",
    "    else:\n",
    "        return 0"
   ]
  },
  {
   "cell_type": "code",
   "execution_count": 11,
   "metadata": {
    "collapsed": true
   },
   "outputs": [],
   "source": [
    "def forget(widgetSlaves, deleteEntryText):\n",
    "    if deleteEntryText:\n",
    "        entry.delete(0, tkinter.END)\n",
    "    for slave in widgetSlaves.grid_slaves():\n",
    "        slave.grid_forget()"
   ]
  },
  {
   "cell_type": "code",
   "execution_count": 74,
   "metadata": {
    "collapsed": false
   },
   "outputs": [],
   "source": [
    "def getGraph(sumID):\n",
    "    #if sumID.is\n",
    "    sumID = str(sumID)\n",
    "    url = 'https://na.api.pvp.net/api/lol/na/v1.3/stats/by-summoner/'+sumID+'/summary?season=SEASON2017&api_key='+key\n",
    "    response = requests.get(url)\n",
    "    summoner_data = response.json()\n",
    "    #print all game type stats\n",
    "    my_dict = {}\n",
    "    #print('Stats for: '+nameRequested + '\\n')\n",
    "    totalWins = 0\n",
    "    for gameType in summoner_data['playerStatSummaries']:\n",
    "        #print(gameType['playerStatSummaryType'])\n",
    "        #print('------------------')\n",
    "        totalWins += gameType['wins']\n",
    "        #print('wins: '+str(gameType['wins']))\n",
    "        #pprint.pprint(gameType['aggregatedStats'])\n",
    "        #print('')\n",
    "        my_dict[gameType['playerStatSummaryType']] = gameType['wins']\n",
    "\n",
    "    #Total Wins in all Modes: totalWins\n",
    "    df_wins = pd.Series(my_dict, name='Wins')\n",
    "    df_wins = df_wins.reset_index().rename(columns={\"index\": \"GameType\"})\n",
    "    df_wins = df_wins.sort_values(by='Wins', ascending=False)\n",
    "    return df_wins.plot.bar(x=df_wins.GameType)\n",
    "    \n",
    "    "
   ]
  },
  {
   "cell_type": "code",
   "execution_count": null,
   "metadata": {
    "collapsed": true,
    "nbpresent": {
     "id": "2f795805-d5a7-42d1-8ac3-23e37dde673e"
    }
   },
   "outputs": [],
   "source": []
  },
  {
   "cell_type": "markdown",
   "metadata": {
    "nbpresent": {
     "id": "a8a14fcd-96e7-4555-909a-5617cb949663"
    }
   },
   "source": [
    "# What is this tool?\n",
    "\n",
    "### What does it do?\n",
    "    - It allows you to view a single Summoner Profile and view their top 5 ranked champions\n",
    "   \n",
    "### Why?\n",
    "\n",
    "\n"
   ]
  },
  {
   "cell_type": "markdown",
   "metadata": {
    "nbpresent": {
     "id": "2025580a-7f18-4360-8607-e8bf4b2cf59e"
    }
   },
   "source": [
    "# This is the magic "
   ]
  },
  {
   "cell_type": "code",
   "execution_count": 13,
   "metadata": {
    "collapsed": true,
    "nbpresent": {
     "id": "f8fbddbf-0c10-497f-9c93-e36179db1d93"
    }
   },
   "outputs": [],
   "source": [
    "def cleanRun():\n",
    "    if 'response' in locals():\n",
    "        del(response)\n",
    "    if 'data' in locals():\n",
    "        del(data)\n",
    "    if 'sumName' in locals():\n",
    "        del(sumName)\n",
    "    if 'sumID' in locals():\n",
    "        del(sumID)\n",
    "    if 'rank' in locals():\n",
    "        del(rank)\n",
    "    if 'textRank' in locals():\n",
    "        del(textRank)\n",
    "    if 'personal_champ_ranked_stats' in locals():\n",
    "        del(personal_champ_ranked_stats)\n",
    "    if 'df_personal_champ_ranked_stats' in locals():\n",
    "        del(df_personal_champ_ranked_stats)\n",
    "    if 'top_champs' in locals():\n",
    "        del(top_champs)\n",
    "    if 'text_top_champs' in locals():\n",
    "        del(text_top_champs)\n",
    "    if 'champArray' in locals():\n",
    "        del(champArray)\n",
    "    if 'root' in locals():\n",
    "        stats1.grid_forget()\n",
    "        stats2.grid_forget()\n",
    "        stats3.grid_forget()\n",
    "        stats4.grid_forget()\n",
    "        stats5.grid_forget()\n",
    "        icon1.grid_forget()\n",
    "        icon2.grid_forget()\n",
    "        icon3.grid_forget()\n",
    "        icon4.grid_forget()\n",
    "        icon5.grid_forget()\n",
    "        rankLabel.grid_forget()\n",
    "        del(img1)\n",
    "        del(img2)\n",
    "        del(img3)\n",
    "        del(img4)\n",
    "        del(img5)\n",
    "        del(name)\n",
    "        nameLabel.grid_forget()\n",
    "        \n",
    "    "
   ]
  },
  {
   "cell_type": "code",
   "execution_count": 69,
   "metadata": {
    "collapsed": false,
    "nbpresent": {
     "id": "0d8078e8-09a4-40fe-9f66-a094764e8d32"
    }
   },
   "outputs": [],
   "source": [
    "def summonerLookup(event):\n",
    "    forget(frame, False)\n",
    "    name = entry.get()\n",
    "    nameLabel = tkinter.Label(frame, text=name, font=(\"Helvetica\", 12))\n",
    "    nameLabel.grid(row=1)\n",
    "    nameRequestedFormatted = name.replace(' ', '%20')\n",
    "    url = 'https://na.api.pvp.net/api/lol/na/v1.4/summoner/by-name/'+nameRequestedFormatted+'?api_key='+key\n",
    "    response = requests.get(url)\n",
    "    data = response.json()\n",
    "    \n",
    "    #get Summoner ID and name\n",
    "    sumName = ''\n",
    "    for name in data:\n",
    "        sumName = name\n",
    "    sumID = data[sumName]['id']\n",
    "    sumID = str(sumID)\n",
    "    \n",
    "    #Get summoner Rank\n",
    "    url = 'https://na.api.pvp.net/api/lol/na/v2.5/league/by-summoner/'+sumID+'?api_key='+key\n",
    "    rank = requests.get(url)         \n",
    "    textRank = ''\n",
    "    if rank.status_code == 200:\n",
    "        for player in rank.json()[sumID][0]['entries']:\n",
    "            if player['playerOrTeamId'] == sumID:\n",
    "                textRank = rank.json()[sumID][0]['tier'].capitalize() + ' '+player['division']+ ' - ' + 'LP: '+str(player['leaguePoints'])\n",
    "        rankLabel = tkinter.Label(frame, text=textRank, font=(\"Helvetica\", 12))\n",
    "    else:\n",
    "        textRank = 'Unranked'\n",
    "        rankLabel = tkinter.Label(frame, text=textRank, font=(\"Helvetica\", 12))\n",
    "    rankLabel.grid(row=1, column=1)\n",
    "    \n",
    "    #get Ranked Stats\n",
    "    url = 'https://na.api.pvp.net/api/lol/na/v1.3/stats/by-summoner/'+sumID+'/ranked?season=SEASON2017&api_key='+key\n",
    "    rankedStats = requests.get(url)\n",
    "    if rankedStats.status_code == 200:\n",
    "        #get all champion ranked stats by champ id and put into DF\n",
    "        personal_champ_ranked_stats = {}\n",
    "        for champ in rankedStats.json()['champions']:\n",
    "            if(champ['id'] == 0):\n",
    "                continue\n",
    "            personal_champ_ranked_stats[champ['id']] = champ['stats']\n",
    "\n",
    "        df_personal_champ_ranked_stats = pd.DataFrame(personal_champ_ranked_stats)\n",
    "        df_personal_champ_ranked_stats = df_personal_champ_ranked_stats.T\n",
    "        df_personal_champ_ranked_stats['KDA'] = (df_personal_champ_ranked_stats.totalAssists + df_personal_champ_ranked_stats.totalChampionKills) / df_personal_champ_ranked_stats.totalDeathsPerSession\n",
    "        df_personal_champ_ranked_stats['winRatio'] = df_personal_champ_ranked_stats.totalSessionsWon / df_personal_champ_ranked_stats.totalSessionsPlayed\n",
    "        df_personal_champ_ranked_stats = df_personal_champ_ranked_stats.T\n",
    "\n",
    "        #get top ranked champs\n",
    "        top_champs = df_personal_champ_ranked_stats.T.sort_values(by='totalSessionsPlayed', ascending=False)[0:5]\n",
    "        \n",
    "        #show relevant stats for champs\n",
    "        text_top_champs = ''\n",
    "        champArray = []\n",
    "        champMastery = []\n",
    "        for c in top_champs.T:\n",
    "            text_top_champs += champ_dict[c] +'\\n'\n",
    "            text_top_champs +='Games Played: '+ str(top_champs.T[c].totalSessionsPlayed)+'\\n'\n",
    "            text_top_champs +='KDA: '+str(top_champs.T[c].KDA) +'\\n'\n",
    "            text_top_champs +='Win Ratio: {percent:.1%}'.format(percent=top_champs.T[c].winRatio)\n",
    "            tempLvl = getSummonerChampLevel(c, sumID)\n",
    "            champMastery.append(tempLvl)\n",
    "            champArray.append(text_top_champs)\n",
    "            text_top_champs = ''\n",
    "        rowNum = 3 #starting row for champs\n",
    "        for c in champArray:\n",
    "            text = c\n",
    "            stats = tkinter.Listbox(frame, height=4)\n",
    "            for stat in text.split('\\n'):\n",
    "                stats.insert('end',stat)\n",
    "            img = tkinter.PhotoImage(file=getChampIcon(text.split('\\n')[0]))\n",
    "            icon = tkinter.Label(frame,image=img)\n",
    "            icon.image = img\n",
    "            icon.grid(row=rowNum)\n",
    "            stats.grid(row=rowNum, column=1, sticky=tkinter.N+tkinter.S)\n",
    "            rowNum = rowNum+1\n",
    "            \n",
    "        tempNum = 0\n",
    "        for m in champMastery:\n",
    "            tempNum +=1\n",
    "            if m > 4:\n",
    "                masteryImg = tkinter.PhotoImage(file='champMastery/lvl'+str(m)+'-Flag2.png')\n",
    "                masteryIcon = tkinter.Label(frame, image=masteryImg)\n",
    "                masteryIcon.image = masteryImg\n",
    "                masteryIcon.grid(row=tempNum+2, sticky=tkinter.N+tkinter.W)\n",
    "                \n",
    "    g = getGraph(sumID)\n",
    "    f = g.get_figure()\n",
    "    f.tight_layout()\n",
    "    f.savefig('gameTypesPlayed.png')\n",
    "    imgGraph = tkinter.PhotoImage(file='gameTypesPlayed.png')\n",
    "    graphGames = tkinter.Label(frame,image=imgGraph)\n",
    "    graphGames.image = imgGraph\n",
    "    graphGames.grid(row=3, column=5, rowspan=3, columnspan=3)\n",
    "    \n",
    "    "
   ]
  },
  {
   "cell_type": "markdown",
   "metadata": {
    "nbpresent": {
     "id": "7090d360-bd30-4b0f-9672-07991fff41f3"
    }
   },
   "source": [
    "# Execute this to analyze a Summoner"
   ]
  },
  {
   "cell_type": "code",
   "execution_count": 70,
   "metadata": {
    "collapsed": true
   },
   "outputs": [],
   "source": [
    "def quit():\n",
    "    shutil.rmtree('tmpChampIcons')\n",
    "    root.destroy()"
   ]
  },
  {
   "cell_type": "code",
   "execution_count": 71,
   "metadata": {
    "collapsed": false
   },
   "outputs": [],
   "source": [
    "firstRun = True"
   ]
  },
  {
   "cell_type": "code",
   "execution_count": 76,
   "metadata": {
    "collapsed": false,
    "nbpresent": {
     "id": "bc60ff2e-147b-4794-a7f4-6821c384d5c1"
    }
   },
   "outputs": [
    {
     "data": {
      "image/png": "[encoded data removed]",
      "text/plain": [
       "<matplotlib.figure.Figure at 0x183c3d6b860>"
      ]
     },
     "metadata": {},
     "output_type": "display_data"
    },
    {
     "data": {
      "image/png": "[encoded data removed]",
      "text/plain": [
       "<matplotlib.figure.Figure at 0x183c4317a58>"
      ]
     },
     "metadata": {},
     "output_type": "display_data"
    },
    {
     "data": {
      "image/png": "[encoded data removed]",
      "text/plain": [
       "<matplotlib.figure.Figure at 0x183c45f5da0>"
      ]
     },
     "metadata": {},
     "output_type": "display_data"
    },
    {
     "data": {
      "image/png": "[encoded data removed]",
      "text/plain": [
       "<matplotlib.figure.Figure at 0x183c4469da0>"
      ]
     },
     "metadata": {},
     "output_type": "display_data"
    }
   ],
   "source": [
    "if firstRun == False:\n",
    "    del(root)\n",
    "firstRun = False\n",
    "cleanRun()\n",
    "shutil.rmtree('tmpChampIcons')\n",
    "os.mkdir('tmpChampIcons') #makes temp champ icons folder \n",
    "root = tkinter.Tk()\n",
    "root.minsize(700, 700)\n",
    "root.geometry('%dx%d+%d+%d' % (800, 400, 0, 0))\n",
    "#root.wm_attributes('-fullscreen', True)\n",
    "#root.wm_attributes('-topmost',True)\n",
    "#root.wm_attributes('-alpha', 0.5)\n",
    "root.title('Summoner Profile')\n",
    "#root.overrideredirect(1)\n",
    "tkinter.Label(root, text=\"Summoner Name:\").grid(row=0)\n",
    "frame = tkinter.Frame()\n",
    "frame.grid(row=1, rowspan = 7, columnspan = 7, sticky = tkinter.W+tkinter.E+tkinter.N+tkinter.S)\n",
    "entry = tkinter.Entry(root)\n",
    "entry.bind(\"<Return>\", summonerLookup)\n",
    "entry.grid(row=0, column=1)\n",
    "\n",
    "#then nothing\n",
    "#throw rest of code in evaluate\n",
    "#scrollbar = tkinter.Scrollbar(root)\n",
    "#scrollbar\n",
    "#scrollbar.pack()\n",
    "#search = tkinter.Button(root, text=\"Search\", command=summonerLookup(1))\n",
    "#search.grid(row=0, column=2)\n",
    "b = tkinter.Button(root, text=\"Clear Results\", command=lambda: forget(frame, True))\n",
    "b.grid(row=0, column=3)\n",
    "tkinter.Button(root, text=\"Quit\", command=root.destroy).grid(row=0, column=4)\n",
    "\n",
    "root.mainloop()"
   ]
  },
  {
   "cell_type": "code",
   "execution_count": null,
   "metadata": {
    "collapsed": true
   },
   "outputs": [],
   "source": []
  }
 ],
 "metadata": {
  "anaconda-cloud": {},
  "kernelspec": {
   "display_name": "Python [Root]",
   "language": "python",
   "name": "Python [Root]"
  },
  "language_info": {
   "codemirror_mode": {
    "name": "ipython",
    "version": 3
   },
   "file_extension": ".py",
   "mimetype": "text/x-python",
   "name": "python",
   "nbconvert_exporter": "python",
   "pygments_lexer": "ipython3",
   "version": "3.5.2"
  },
  "nbpresent": {
   "slides": {
    "372e4053-69b2-470e-884c-d9b04c9fcf80": {
     "id": "372e4053-69b2-470e-884c-d9b04c9fcf80",
     "prev": "72252523-9dfa-46f4-9573-ab673f70d208",
     "regions": {
      "ac2c6e4b-22a5-427d-871f-06857953294a": {
       "attrs": {
        "height": 0.8,
        "width": 0.8,
        "x": 0.1,
        "y": 0.1
       },
       "content": {
        "cell": "7759a35b-a4f0-4f36-aa96-0216e54660f0",
        "part": "whole"
       },
       "id": "ac2c6e4b-22a5-427d-871f-06857953294a"
      }
     }
    },
    "55fb1d4c-89bb-43cd-96a9-c7fafbd0f2c6": {
     "id": "55fb1d4c-89bb-43cd-96a9-c7fafbd0f2c6",
     "prev": "7ec51025-f599-411c-9c70-bca6cfad8d80",
     "regions": {
      "b66e2384-1096-43de-8067-ed193199351b": {
       "attrs": {
        "height": 0.8,
        "width": 0.8,
        "x": 0.1,
        "y": 0.1
       },
       "content": {
        "cell": "6506f1b9-3762-4fbf-ae03-bd62f08e68cd",
        "part": "whole"
       },
       "id": "b66e2384-1096-43de-8067-ed193199351b"
      }
     }
    },
    "5f1e163c-3e71-42f4-8f04-2c824b91f290": {
     "id": "5f1e163c-3e71-42f4-8f04-2c824b91f290",
     "prev": "b7a70e0d-5cef-4d60-8a24-ab409acdf01a",
     "regions": {
      "7d85b030-dcb9-4100-a361-fe89896034b4": {
       "attrs": {
        "height": 0.8,
        "width": 0.8,
        "x": 0.1,
        "y": 0.1
       },
       "content": {
        "cell": "ef355c29-09b3-4dc6-a71d-063429bb3527",
        "part": "whole"
       },
       "id": "7d85b030-dcb9-4100-a361-fe89896034b4"
      }
     }
    },
    "622144bd-26c3-49e8-a3d0-61be16ac2a57": {
     "id": "622144bd-26c3-49e8-a3d0-61be16ac2a57",
     "prev": "bf06a893-603e-41b6-9a0c-d3bf18ae3f16",
     "regions": {
      "7b5a047b-eb28-453e-8579-46fa5e50605c": {
       "attrs": {
        "height": 0.8,
        "width": 0.8,
        "x": 0.1,
        "y": 0.1
       },
       "content": {
        "cell": "2219a094-9f61-4004-b8d1-9daa69b629eb",
        "part": "whole"
       },
       "id": "7b5a047b-eb28-453e-8579-46fa5e50605c"
      }
     }
    },
    "72252523-9dfa-46f4-9573-ab673f70d208": {
     "id": "72252523-9dfa-46f4-9573-ab673f70d208",
     "prev": "eba57410-84c0-4577-8c48-50c9321fc6fe",
     "regions": {
      "b4fae9d3-f459-414e-a5d9-1f642db39b2f": {
       "attrs": {
        "height": 0.8,
        "width": 0.8,
        "x": 0.1,
        "y": 0.1
       },
       "content": {
        "cell": "a54dd71c-526f-4de5-9827-9207a41656bd",
        "part": "whole"
       },
       "id": "b4fae9d3-f459-414e-a5d9-1f642db39b2f"
      }
     }
    },
    "727de6c2-d7d1-4eda-bd18-3c51edcd2ebc": {
     "id": "727de6c2-d7d1-4eda-bd18-3c51edcd2ebc",
     "prev": "e8e34e55-1f1a-4171-8cd5-20800639e5d2",
     "regions": {
      "4996ccb0-f1ae-49a7-ad23-156dee3ec04b": {
       "attrs": {
        "height": 0.8,
        "width": 0.8,
        "x": 0.1,
        "y": 0.1
       },
       "content": {
        "cell": "a8a14fcd-96e7-4555-909a-5617cb949663",
        "part": "whole"
       },
       "id": "4996ccb0-f1ae-49a7-ad23-156dee3ec04b"
      }
     }
    },
    "7ec51025-f599-411c-9c70-bca6cfad8d80": {
     "id": "7ec51025-f599-411c-9c70-bca6cfad8d80",
     "prev": "372e4053-69b2-470e-884c-d9b04c9fcf80",
     "regions": {
      "22f8f6c0-7186-407b-9103-0785a965cd1d": {
       "attrs": {
        "height": 0.8,
        "width": 0.8,
        "x": 0.1,
        "y": 0.1
       },
       "content": {
        "cell": "c37c7974-1b4f-48bd-bb27-601c5583385c",
        "part": "whole"
       },
       "id": "22f8f6c0-7186-407b-9103-0785a965cd1d"
      }
     }
    },
    "873f0d25-91fe-4f98-b071-3264636f07be": {
     "id": "873f0d25-91fe-4f98-b071-3264636f07be",
     "prev": null,
     "regions": {
      "fdc30ed4-6c36-4dca-bd3d-1191ebef8f57": {
       "attrs": {
        "height": 0.8,
        "width": 0.8,
        "x": 0.1,
        "y": 0.1
       },
       "content": {
        "cell": "f1f2f628-9d81-48e4-94af-17cd41fc76b4",
        "part": "whole"
       },
       "id": "fdc30ed4-6c36-4dca-bd3d-1191ebef8f57"
      }
     }
    },
    "8df4fab9-c9cd-4a98-b40e-fa81a81cc700": {
     "id": "8df4fab9-c9cd-4a98-b40e-fa81a81cc700",
     "prev": "873f0d25-91fe-4f98-b071-3264636f07be",
     "regions": {
      "16ae0832-887c-4da0-ab90-5a224dc7d56b": {
       "attrs": {
        "height": 0.8,
        "width": 0.8,
        "x": 0.1,
        "y": 0.1
       },
       "content": {
        "cell": "1b65e2e6-c17f-43d7-b591-6d7bcb9b836a",
        "part": "whole"
       },
       "id": "16ae0832-887c-4da0-ab90-5a224dc7d56b"
      }
     }
    },
    "94485890-4d10-47f7-88d4-51ac3d12ca48": {
     "id": "94485890-4d10-47f7-88d4-51ac3d12ca48",
     "prev": "8df4fab9-c9cd-4a98-b40e-fa81a81cc700",
     "regions": {
      "c7ace358-ca27-470e-b87c-f04d2c7f0c9b": {
       "attrs": {
        "height": 0.8,
        "width": 0.8,
        "x": 0.1,
        "y": 0.1
       },
       "content": {
        "cell": "84b063f4-93b0-464c-9dd6-ec3df5f208c9",
        "part": "whole"
       },
       "id": "c7ace358-ca27-470e-b87c-f04d2c7f0c9b"
      }
     }
    },
    "9ff2908f-0213-4eda-9761-3697f8c31e6f": {
     "id": "9ff2908f-0213-4eda-9761-3697f8c31e6f",
     "prev": "f4a15da2-ea9f-4260-824b-5b133faa76da",
     "regions": {
      "a243e1d9-14b8-4e73-846e-7139bf4899cd": {
       "attrs": {
        "height": 0.8,
        "width": 0.8,
        "x": 0.1,
        "y": 0.1
       },
       "content": {
        "cell": "1c96eae4-7a7a-4465-8511-e19984550f77",
        "part": "whole"
       },
       "id": "a243e1d9-14b8-4e73-846e-7139bf4899cd"
      }
     }
    },
    "b7a70e0d-5cef-4d60-8a24-ab409acdf01a": {
     "id": "b7a70e0d-5cef-4d60-8a24-ab409acdf01a",
     "prev": "cca055e0-3931-434a-84d8-c3b5d751e263",
     "regions": {
      "556e91cd-21a7-43e3-ac15-d9b78d37eecc": {
       "attrs": {
        "height": 0.8,
        "width": 0.8,
        "x": 0.1,
        "y": 0.1
       },
       "content": {
        "cell": "0edc1ac5-03a6-4d97-b498-b8afacd261c8",
        "part": "whole"
       },
       "id": "556e91cd-21a7-43e3-ac15-d9b78d37eecc"
      }
     }
    },
    "b8fe7dfe-750a-42c0-8d78-904804830493": {
     "id": "b8fe7dfe-750a-42c0-8d78-904804830493",
     "prev": "db0f425b-cf77-4f55-904e-8f9e81eb5b8b",
     "regions": {
      "e3894cf8-218f-45f2-9131-06a5e86d7996": {
       "attrs": {
        "height": 0.8,
        "width": 0.8,
        "x": 0.1,
        "y": 0.1
       },
       "content": {
        "cell": "0d8078e8-09a4-40fe-9f66-a094764e8d32",
        "part": "whole"
       },
       "id": "e3894cf8-218f-45f2-9131-06a5e86d7996"
      }
     }
    },
    "bf06a893-603e-41b6-9a0c-d3bf18ae3f16": {
     "id": "bf06a893-603e-41b6-9a0c-d3bf18ae3f16",
     "prev": "727de6c2-d7d1-4eda-bd18-3c51edcd2ebc",
     "regions": {
      "7a049615-ea01-42f2-9d84-18f553785437": {
       "attrs": {
        "height": 0.8,
        "width": 0.8,
        "x": 0.1,
        "y": 0.1
       },
       "content": {
        "cell": "2025580a-7f18-4360-8607-e8bf4b2cf59e",
        "part": "whole"
       },
       "id": "7a049615-ea01-42f2-9d84-18f553785437"
      }
     }
    },
    "cca055e0-3931-434a-84d8-c3b5d751e263": {
     "id": "cca055e0-3931-434a-84d8-c3b5d751e263",
     "prev": "de88f36b-f1d5-43c6-a356-2a7df8dbd185",
     "regions": {
      "c0475937-e72e-45ef-a4d5-98aa955cda3f": {
       "attrs": {
        "height": 0.8,
        "width": 0.8,
        "x": 0.1,
        "y": 0.1
       },
       "content": {
        "cell": "bc60ff2e-147b-4794-a7f4-6821c384d5c1",
        "part": "whole"
       },
       "id": "c0475937-e72e-45ef-a4d5-98aa955cda3f"
      }
     }
    },
    "da00e9a1-5918-45f5-980d-449b68f74ce2": {
     "id": "da00e9a1-5918-45f5-980d-449b68f74ce2",
     "prev": "5f1e163c-3e71-42f4-8f04-2c824b91f290",
     "regions": {
      "85a21b9d-0142-466e-87ab-5842a762017c": {
       "attrs": {
        "height": 0.8,
        "width": 0.8,
        "x": 0.1,
        "y": 0.1
       },
       "content": {
        "cell": "9485810d-3bde-4e8a-8e02-5b5c54b5fafc",
        "part": "whole"
       },
       "id": "85a21b9d-0142-466e-87ab-5842a762017c"
      }
     }
    },
    "db0f425b-cf77-4f55-904e-8f9e81eb5b8b": {
     "id": "db0f425b-cf77-4f55-904e-8f9e81eb5b8b",
     "prev": "622144bd-26c3-49e8-a3d0-61be16ac2a57",
     "regions": {
      "b5e09984-9059-4da6-ac60-394b6bf87a09": {
       "attrs": {
        "height": 0.8,
        "width": 0.8,
        "x": 0.1,
        "y": 0.1
       },
       "content": {
        "cell": "f8fbddbf-0c10-497f-9c93-e36179db1d93",
        "part": "whole"
       },
       "id": "b5e09984-9059-4da6-ac60-394b6bf87a09"
      }
     }
    },
    "de88f36b-f1d5-43c6-a356-2a7df8dbd185": {
     "id": "de88f36b-f1d5-43c6-a356-2a7df8dbd185",
     "prev": "b8fe7dfe-750a-42c0-8d78-904804830493",
     "regions": {
      "f9420c8d-a164-4ae5-9b2d-769c60770ce4": {
       "attrs": {
        "height": 0.8,
        "width": 0.8,
        "x": 0.1,
        "y": 0.1
       },
       "content": {
        "cell": "7090d360-bd30-4b0f-9672-07991fff41f3",
        "part": "whole"
       },
       "id": "f9420c8d-a164-4ae5-9b2d-769c60770ce4"
      }
     }
    },
    "e8e34e55-1f1a-4171-8cd5-20800639e5d2": {
     "id": "e8e34e55-1f1a-4171-8cd5-20800639e5d2",
     "prev": "9ff2908f-0213-4eda-9761-3697f8c31e6f",
     "regions": {
      "74228210-7fcc-4169-9d8e-d4fefd758ec8": {
       "attrs": {
        "height": 0.8,
        "width": 0.8,
        "x": 0.1,
        "y": 0.1
       },
       "content": {
        "cell": "2f795805-d5a7-42d1-8ac3-23e37dde673e",
        "part": "whole"
       },
       "id": "74228210-7fcc-4169-9d8e-d4fefd758ec8"
      }
     }
    },
    "eba57410-84c0-4577-8c48-50c9321fc6fe": {
     "id": "eba57410-84c0-4577-8c48-50c9321fc6fe",
     "prev": "94485890-4d10-47f7-88d4-51ac3d12ca48",
     "regions": {
      "cccb0350-42a4-4b65-bccd-70227c495822": {
       "attrs": {
        "height": 0.8,
        "width": 0.8,
        "x": 0.1,
        "y": 0.1
       },
       "content": {
        "cell": "9e7bf19b-f99e-41c8-bf29-a0dfef1fb816",
        "part": "whole"
       },
       "id": "cccb0350-42a4-4b65-bccd-70227c495822"
      }
     }
    },
    "f4a15da2-ea9f-4260-824b-5b133faa76da": {
     "id": "f4a15da2-ea9f-4260-824b-5b133faa76da",
     "prev": "55fb1d4c-89bb-43cd-96a9-c7fafbd0f2c6",
     "regions": {
      "cfe6f782-2fe1-4173-ba82-b9f8cffedcb9": {
       "attrs": {
        "height": 0.8,
        "width": 0.8,
        "x": 0.1,
        "y": 0.1
       },
       "content": {
        "cell": "f70c8ca9-95e9-4a3e-bf28-1448586363be",
        "part": "whole"
       },
       "id": "cfe6f782-2fe1-4173-ba82-b9f8cffedcb9"
      }
     }
    }
   },
   "themes": {
    "default": "67122d56-3f9b-4d4a-944f-43f1e64e7b35",
    "theme": {
     "661b3f72-7702-4c7a-8be6-1d1406e32c68": {
      "id": "661b3f72-7702-4c7a-8be6-1d1406e32c68",
      "palette": {
       "19cc588f-0593-49c9-9f4b-e4d7cc113b1c": {
        "id": "19cc588f-0593-49c9-9f4b-e4d7cc113b1c",
        "rgb": [
         252,
         252,
         252
        ]
       },
       "31af15d2-7e15-44c5-ab5e-e04b16a89eff": {
        "id": "31af15d2-7e15-44c5-ab5e-e04b16a89eff",
        "rgb": [
         68,
         68,
         68
        ]
       },
       "50f92c45-a630-455b-aec3-788680ec7410": {
        "id": "50f92c45-a630-455b-aec3-788680ec7410",
        "rgb": [
         155,
         177,
         192
        ]
       },
       "c5cc3653-2ee1-402a-aba2-7caae1da4f6c": {
        "id": "c5cc3653-2ee1-402a-aba2-7caae1da4f6c",
        "rgb": [
         43,
         126,
         184
        ]
       },
       "efa7f048-9acb-414c-8b04-a26811511a21": {
        "id": "efa7f048-9acb-414c-8b04-a26811511a21",
        "rgb": [
         25.118061674008803,
         73.60176211453744,
         107.4819383259912
        ]
       }
      },
      "rules": {
       "blockquote": {
        "color": "50f92c45-a630-455b-aec3-788680ec7410"
       },
       "code": {
        "font-family": "Anonymous Pro"
       },
       "h1": {
        "color": "c5cc3653-2ee1-402a-aba2-7caae1da4f6c",
        "font-family": "Lato",
        "font-size": 8
       },
       "h2": {
        "color": "c5cc3653-2ee1-402a-aba2-7caae1da4f6c",
        "font-family": "Lato",
        "font-size": 6
       },
       "h3": {
        "color": "50f92c45-a630-455b-aec3-788680ec7410",
        "font-family": "Lato",
        "font-size": 5.5
       },
       "h4": {
        "color": "c5cc3653-2ee1-402a-aba2-7caae1da4f6c",
        "font-family": "Lato",
        "font-size": 5
       },
       "h5": {
        "font-family": "Lato"
       },
       "h6": {
        "font-family": "Lato"
       },
       "h7": {
        "font-family": "Lato"
       },
       "pre": {
        "font-family": "Anonymous Pro",
        "font-size": 4
       }
      },
      "text-base": {
       "font-family": "Merriweather",
       "font-size": 4
      }
     },
     "67122d56-3f9b-4d4a-944f-43f1e64e7b35": {
      "backgrounds": {
       "backgroundColor": {
        "background-color": "backgroundColor",
        "id": "backgroundColor"
       }
      },
      "id": "67122d56-3f9b-4d4a-944f-43f1e64e7b35",
      "palette": {
       "backgroundColor": {
        "id": "backgroundColor",
        "rgb": [
         256,
         256,
         256
        ]
       },
       "headingColor": {
        "id": "headingColor",
        "rgb": [
         0,
         0,
         0
        ]
       },
       "linkColor": {
        "id": "linkColor",
        "rgb": [
         0,
         0,
         139
        ]
       },
       "mainColor": {
        "id": "mainColor",
        "rgb": [
         0,
         0,
         0
        ]
       }
      },
      "rules": {
       "a": {
        "color": "linkColor"
       },
       "h1": {
        "color": "headingColor",
        "font-family": "News Cycle",
        "font-size": 7
       },
       "h2": {
        "color": "headingColor",
        "font-family": "News Cycle",
        "font-size": 5
       },
       "h3": {
        "color": "headingColor",
        "font-family": "News Cycle",
        "font-size": 3.75
       },
       "h4": {
        "color": "headingColor",
        "font-family": "News Cycle",
        "font-size": 3
       },
       "h5": {
        "color": "headingColor",
        "font-family": "News Cycle"
       },
       "h6": {
        "color": "headingColor",
        "font-family": "News Cycle"
       },
       "h7": {
        "color": "headingColor",
        "font-family": "News Cycle"
       },
       "li": {
        "color": "mainColor",
        "font-family": "Lato",
        "font-size": 5
       },
       "p": {
        "color": "mainColor",
        "font-family": "Lato",
        "font-size": 5
       }
      },
      "text-base": {
       "color": "mainColor",
       "font-family": "Lato",
       "font-size": 5
      }
     },
     "6d4bdab3-6169-492e-a1dc-89d97fbb8858": {
      "id": "6d4bdab3-6169-492e-a1dc-89d97fbb8858",
      "palette": {
       "19cc588f-0593-49c9-9f4b-e4d7cc113b1c": {
        "id": "19cc588f-0593-49c9-9f4b-e4d7cc113b1c",
        "rgb": [
         252,
         252,
         252
        ]
       },
       "31af15d2-7e15-44c5-ab5e-e04b16a89eff": {
        "id": "31af15d2-7e15-44c5-ab5e-e04b16a89eff",
        "rgb": [
         68,
         68,
         68
        ]
       },
       "50f92c45-a630-455b-aec3-788680ec7410": {
        "id": "50f92c45-a630-455b-aec3-788680ec7410",
        "rgb": [
         155,
         177,
         192
        ]
       },
       "c5cc3653-2ee1-402a-aba2-7caae1da4f6c": {
        "id": "c5cc3653-2ee1-402a-aba2-7caae1da4f6c",
        "rgb": [
         43,
         126,
         184
        ]
       },
       "efa7f048-9acb-414c-8b04-a26811511a21": {
        "id": "efa7f048-9acb-414c-8b04-a26811511a21",
        "rgb": [
         25.118061674008803,
         73.60176211453744,
         107.4819383259912
        ]
       }
      },
      "rules": {
       "blockquote": {
        "color": "50f92c45-a630-455b-aec3-788680ec7410"
       },
       "code": {
        "font-family": "Anonymous Pro"
       },
       "h1": {
        "color": "c5cc3653-2ee1-402a-aba2-7caae1da4f6c",
        "font-family": "Lato",
        "font-size": 8
       },
       "h2": {
        "color": "c5cc3653-2ee1-402a-aba2-7caae1da4f6c",
        "font-family": "Lato",
        "font-size": 6
       },
       "h3": {
        "color": "50f92c45-a630-455b-aec3-788680ec7410",
        "font-family": "Lato",
        "font-size": 5.5
       },
       "h4": {
        "color": "c5cc3653-2ee1-402a-aba2-7caae1da4f6c",
        "font-family": "Lato",
        "font-size": 5
       },
       "h5": {
        "font-family": "Lato"
       },
       "h6": {
        "font-family": "Lato"
       },
       "h7": {
        "font-family": "Lato"
       },
       "pre": {
        "font-family": "Anonymous Pro",
        "font-size": 4
       }
      },
      "text-base": {
       "font-family": "Merriweather",
       "font-size": 4
      }
     },
     "8fa6cc01-4131-42d1-8c3f-8bfae3b7a03f": {
      "id": "8fa6cc01-4131-42d1-8c3f-8bfae3b7a03f",
      "palette": {
       "19cc588f-0593-49c9-9f4b-e4d7cc113b1c": {
        "id": "19cc588f-0593-49c9-9f4b-e4d7cc113b1c",
        "rgb": [
         252,
         252,
         252
        ]
       },
       "31af15d2-7e15-44c5-ab5e-e04b16a89eff": {
        "id": "31af15d2-7e15-44c5-ab5e-e04b16a89eff",
        "rgb": [
         68,
         68,
         68
        ]
       },
       "50f92c45-a630-455b-aec3-788680ec7410": {
        "id": "50f92c45-a630-455b-aec3-788680ec7410",
        "rgb": [
         155,
         177,
         192
        ]
       },
       "c5cc3653-2ee1-402a-aba2-7caae1da4f6c": {
        "id": "c5cc3653-2ee1-402a-aba2-7caae1da4f6c",
        "rgb": [
         43,
         126,
         184
        ]
       },
       "efa7f048-9acb-414c-8b04-a26811511a21": {
        "id": "efa7f048-9acb-414c-8b04-a26811511a21",
        "rgb": [
         25.118061674008803,
         73.60176211453744,
         107.4819383259912
        ]
       }
      },
      "rules": {
       "blockquote": {
        "color": "50f92c45-a630-455b-aec3-788680ec7410"
       },
       "code": {
        "font-family": "Anonymous Pro"
       },
       "h1": {
        "color": "c5cc3653-2ee1-402a-aba2-7caae1da4f6c",
        "font-family": "Lato",
        "font-size": 8
       },
       "h2": {
        "color": "c5cc3653-2ee1-402a-aba2-7caae1da4f6c",
        "font-family": "Lato",
        "font-size": 6
       },
       "h3": {
        "color": "50f92c45-a630-455b-aec3-788680ec7410",
        "font-family": "Lato",
        "font-size": 5.5
       },
       "h4": {
        "color": "c5cc3653-2ee1-402a-aba2-7caae1da4f6c",
        "font-family": "Lato",
        "font-size": 5
       },
       "h5": {
        "font-family": "Lato"
       },
       "h6": {
        "font-family": "Lato"
       },
       "h7": {
        "font-family": "Lato"
       },
       "pre": {
        "font-family": "Anonymous Pro",
        "font-size": 4
       }
      },
      "text-base": {
       "font-family": "Merriweather",
       "font-size": 4
      }
     }
    }
   }
  }
 },
 "nbformat": 4,
 "nbformat_minor": 0
}
